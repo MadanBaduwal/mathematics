{
  "cells": [
    {
      "cell_type": "markdown",
      "metadata": {
        "id": "SBFwh6HGQ5VC"
      },
      "source": [
        "# Matrix\n",
        "> A tutorial of matrix operations.\n",
        "\n",
        "- toc: true \n",
        "- badges: true\n",
        "- comments: true\n",
        "- categories: [Linear Algebra]\n",
        "- image: images/chart-preview.png"
      ]
    },
    {
      "cell_type": "markdown",
      "metadata": {
        "id": "vzo2B_fAQ5VG"
      },
      "source": [
        "# About\n",
        "\n",
        "In this notebook we will implement Chapter 1 \"Introduction to Vectors\" from Gilbart Strang Book [Introduction to Linear Algebra, Fifth Edition (2016)](https://math.mit.edu/~gs/linearalgebra/)\n"
      ]
    },
    {
      "cell_type": "markdown",
      "source": [
        "# Chapter 1\n",
        "# Introduction to Vectors"
      ],
      "metadata": {
        "id": "2IjztuyscKub"
      }
    }
  ],
  "metadata": {
    "kernelspec": {
      "display_name": "visualization-curriculum-gF8wUgMm",
      "language": "python",
      "name": "visualization-curriculum-gf8wugmm"
    },
    "language_info": {
      "codemirror_mode": {
        "name": "ipython",
        "version": 3
      },
      "file_extension": ".py",
      "mimetype": "text/x-python",
      "name": "python",
      "nbconvert_exporter": "python",
      "pygments_lexer": "ipython3",
      "version": "3.6.7"
    },
    "varInspector": {
      "cols": {
        "lenName": 16,
        "lenType": 16,
        "lenVar": 40
      },
      "kernels_config": {
        "python": {
          "delete_cmd_postfix": "",
          "delete_cmd_prefix": "del ",
          "library": "var_list.py",
          "varRefreshCmd": "print(var_dic_list())"
        },
        "r": {
          "delete_cmd_postfix": ") ",
          "delete_cmd_prefix": "rm(",
          "library": "var_list.r",
          "varRefreshCmd": "cat(var_dic_list()) "
        }
      },
      "types_to_exclude": [
        "module",
        "function",
        "builtin_function_or_method",
        "instance",
        "_Feature"
      ],
      "window_display": false
    },
    "colab": {
      "name": "2020-02-20-test.ipynb",
      "provenance": []
    }
  },
  "nbformat": 4,
  "nbformat_minor": 0
}